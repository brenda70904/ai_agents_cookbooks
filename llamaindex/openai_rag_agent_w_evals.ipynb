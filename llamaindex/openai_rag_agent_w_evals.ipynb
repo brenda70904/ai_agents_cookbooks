{
 "cells": [
  {
   "cell_type": "markdown",
   "metadata": {},
   "source": [
    "# OpenAI Agent with LlamaIndex\n",
    "\n",
    "## Install Dependencies"
   ]
  },
  {
   "cell_type": "code",
   "execution_count": 1,
   "metadata": {},
   "outputs": [],
   "source": [
    "! pip install -qU llama-index==0.11.6 llama-index-llms-openai llama-index-readers-file llama-index-embeddings-openai \"openinference-instrumentation-llama-index>=2\" arize-phoenix python-dotenv"
   ]
  },
  {
   "cell_type": "markdown",
   "metadata": {},
   "source": [
    "## Setup API Keys\n",
    "To run the rest of the notebook you will need access to an OctoAI API key. You can sign up for an account [here](https://octoai.cloud/). If you need further guidance you can check OctoAI's [documentation page](https://octo.ai/docs/getting-started/how-to-create-octoai-access-token)."
   ]
  },
  {
   "cell_type": "code",
   "execution_count": 2,
   "metadata": {},
   "outputs": [],
   "source": [
    "import os\n",
    "from dotenv import load_dotenv\n",
    "\n",
    "load_dotenv()\n",
    "\n",
    "os.environ[\"OPENAI_API_KEY\"] = \"key\""
   ]
  },
  {
   "cell_type": "markdown",
   "metadata": {},
   "source": [
    "## Import libraries and setup LlamaIndex"
   ]
  },
  {
   "cell_type": "code",
   "execution_count": 3,
   "metadata": {},
   "outputs": [],
   "source": [
    "from llama_index.core import (\n",
    "    SimpleDirectoryReader,\n",
    "    VectorStoreIndex,\n",
    "    StorageContext,\n",
    "    load_index_from_storage,\n",
    ")\n",
    "from llama_index.core.tools import QueryEngineTool, ToolMetadata\n",
    "from llama_index.core.agent import ReActAgent\n",
    "from llama_index.llms.openai import OpenAI\n",
    "\n",
    "\n",
    "# Create an llm object to use for the QueryEngine and the ReActAgent\n",
    "llm = OpenAI(model=\"gpt-4\")"
   ]
  },
  {
   "cell_type": "markdown",
   "metadata": {},
   "source": [
    "# Set up Phoenix"
   ]
  },
  {
   "cell_type": "code",
   "execution_count": 4,
   "metadata": {},
   "outputs": [],
   "source": [
    "from openinference.instrumentation.llama_index import LlamaIndexInstrumentor"
   ]
  },
  {
   "cell_type": "code",
   "execution_count": 5,
   "metadata": {},
   "outputs": [
    {
     "name": "stderr",
     "output_type": "stream",
     "text": [
      "/Users/jowb/Documents/ai_agents_cookbooks/agentenv/lib/python3.12/site-packages/tqdm/auto.py:21: TqdmWarning: IProgress not found. Please update jupyter and ipywidgets. See https://ipywidgets.readthedocs.io/en/stable/user_install.html\n",
      "  from .autonotebook import tqdm as notebook_tqdm\n"
     ]
    },
    {
     "name": "stdout",
     "output_type": "stream",
     "text": [
      "🌍 To view the Phoenix app in your browser, visit http://localhost:6006/\n",
      "📖 For more information on how to use Phoenix, check out https://docs.arize.com/phoenix\n"
     ]
    }
   ],
   "source": [
    "import phoenix as px\n",
    "session = px.launch_app()"
   ]
  },
  {
   "cell_type": "code",
   "execution_count": 6,
   "metadata": {},
   "outputs": [
    {
     "name": "stdout",
     "output_type": "stream",
     "text": [
      "🔭 OpenTelemetry Tracing Details 🔭\n",
      "|  Phoenix Project: default\n",
      "|  Span Processor: SimpleSpanProcessor\n",
      "|  Collector Endpoint: localhost:4317\n",
      "|  Transport: gRPC\n",
      "|  Transport Headers: {'user-agent': '****'}\n",
      "|  \n",
      "|  Using a default SpanProcessor. `add_span_processor` will overwrite this default.\n",
      "|  \n",
      "|  `register` has set this TracerProvider as the global OpenTelemetry default.\n",
      "|  To disable this behavior, call `register` with `set_global_tracer_provider=False`.\n",
      "\n"
     ]
    }
   ],
   "source": [
    "from phoenix.otel import register\n",
    "\n",
    "tracer_provider = register()\n",
    "\n",
    "LlamaIndexInstrumentor().instrument(tracer_provider=tracer_provider)"
   ]
  },
  {
   "cell_type": "markdown",
   "metadata": {},
   "source": [
    "## Load Documents"
   ]
  },
  {
   "cell_type": "code",
   "execution_count": 7,
   "metadata": {},
   "outputs": [],
   "source": [
    "try:\n",
    "    storage_context = StorageContext.from_defaults(\n",
    "        persist_dir=\"./storage/lyft\"\n",
    "    )\n",
    "    lyft_index = load_index_from_storage(storage_context)\n",
    "\n",
    "    storage_context = StorageContext.from_defaults(\n",
    "        persist_dir=\"./storage/uber\"\n",
    "    )\n",
    "    uber_index = load_index_from_storage(storage_context)\n",
    "\n",
    "    index_loaded = True\n",
    "except:\n",
    "    index_loaded = False"
   ]
  },
  {
   "cell_type": "markdown",
   "metadata": {},
   "source": [
    "This is the point we create our vector indexes, by calculating the embedding vectors for each of the chunks. You only need to run this once."
   ]
  },
  {
   "cell_type": "code",
   "execution_count": 13,
   "metadata": {},
   "outputs": [
    {
     "name": "stderr",
     "output_type": "stream",
     "text": [
      "Parsing nodes: 100%|██████████| 1/1 [00:00<00:00, 16.07it/s]\n",
      "Generating embeddings: 100%|██████████| 23/23 [00:00<00:00, 63.51it/s]\n",
      "Parsing nodes: 100%|██████████| 1/1 [00:00<00:00, 37.20it/s]\n",
      "Generating embeddings: 100%|██████████| 18/18 [00:00<00:00, 33.74it/s]\n"
     ]
    }
   ],
   "source": [
    "if not index_loaded:\n",
    "    # load data\n",
    "    chicago_docs = SimpleDirectoryReader(\n",
    "        input_files=[\"../city_data/Chicago.txt\"]\n",
    "    ).load_data()\n",
    "    seattle_docs = SimpleDirectoryReader(\n",
    "        input_files=[\"../city_data/Seattle.txt\"]\n",
    "    ).load_data()\n",
    "\n",
    "    # build index\n",
    "    chicago_index = VectorStoreIndex.from_documents(chicago_docs, show_progress=True)\n",
    "    seattle_index = VectorStoreIndex.from_documents(seattle_docs, show_progress=True)\n",
    "\n",
    "    # persist index\n",
    "    # lyft_index.storage_context.persist(persist_dir=\"./storage/lyft\")\n",
    "    # uber_index.storage_context.persist(persist_dir=\"./storage/uber\")"
   ]
  },
  {
   "cell_type": "markdown",
   "metadata": {},
   "source": [
    "Now create the query engines."
   ]
  },
  {
   "cell_type": "code",
   "execution_count": 14,
   "metadata": {},
   "outputs": [],
   "source": [
    "chicago_engine = chicago_index.as_query_engine(similarity_top_k=3, llm=llm)\n",
    "seattle_engine = seattle_index.as_query_engine(similarity_top_k=3, llm=llm)"
   ]
  },
  {
   "cell_type": "markdown",
   "metadata": {},
   "source": [
    "We can now define the query engines as tools that will be used by the agent.\n",
    "\n",
    "As there is a query engine per document we need to also define one tool for each of them."
   ]
  },
  {
   "cell_type": "code",
   "execution_count": 17,
   "metadata": {},
   "outputs": [],
   "source": [
    "query_engine_tools = [\n",
    "    QueryEngineTool(\n",
    "        query_engine=chicago_engine,\n",
    "        metadata=ToolMetadata(\n",
    "            name=\"chicago_wiki\",\n",
    "            description=(\n",
    "                \"Chicago's wiki\"\n",
    "                \"Use a detailed plain text question as input to the tool.\"\n",
    "            ),\n",
    "        ),\n",
    "    ),\n",
    "    QueryEngineTool(\n",
    "        query_engine=seattle_engine,\n",
    "        metadata=ToolMetadata(\n",
    "            name=\"seattle_wiki\",\n",
    "            description=(\n",
    "                \"Seattle_wiki \"\n",
    "                \"Use a detailed plain text question as input to the tool.\"\n",
    "            ),\n",
    "        ),\n",
    "    ),\n",
    "]"
   ]
  },
  {
   "cell_type": "markdown",
   "metadata": {},
   "source": [
    "## Creating the Agent\n",
    "Now we have all the elements to create a LlamaIndex ReactAgent"
   ]
  },
  {
   "cell_type": "code",
   "execution_count": 18,
   "metadata": {},
   "outputs": [],
   "source": [
    "agent = ReActAgent.from_tools(\n",
    "    query_engine_tools,\n",
    "    llm=llm,\n",
    "    verbose=True,\n",
    "    max_turns=10,\n",
    ")"
   ]
  },
  {
   "cell_type": "markdown",
   "metadata": {},
   "source": [
    "Now we can interact with the agent and ask a question."
   ]
  },
  {
   "cell_type": "code",
   "execution_count": 24,
   "metadata": {},
   "outputs": [
    {
     "name": "stdout",
     "output_type": "stream",
     "text": [
      "> Running step 6a4421dc-731f-43da-b5b0-3efc56a3b8c0. Step input: which city has higher education in general?\n",
      "\u001b[1;3;38;5;200mThought: The user is asking about the general level of education in Chicago and Seattle. I can use the chicago_wiki and seattle_wiki tools to gather information about the education levels in these cities.\n",
      "Action: chicago_wiki\n",
      "Action Input: {'input': 'education in Chicago'}\n",
      "\u001b[0m\u001b[1;3;34mObservation: Chicago's education system is extensive and diverse. The Chicago Public Schools (CPS) governs over 600 public elementary and high schools, including several selective-admission magnet schools. There are eleven selective enrollment high schools designed to meet the needs of the city's most academically advanced students. The district is the third-largest in the U.S., with an enrollment exceeding 400,545 students. \n",
      "\n",
      "Chicago also has a network of Lutheran schools, private schools run by various denominations and faiths, and completely secular private schools. There are also specialized arts-focused schools. The Chicago Public Library system operates three regional libraries and 77 neighborhood branches.\n",
      "\n",
      "In terms of higher education, Chicago has been a world center of higher education and research since the 1850s. The city is home to several universities that consistently rank among the top \"National Universities\" in the United States. These include the University of Chicago, Northwestern University, Illinois Institute of Technology, Loyola University Chicago, DePaul University, Columbia College Chicago, and the University of Illinois at Chicago. The city also has a high concentration of post-baccalaureate institutions, graduate schools, seminaries, and theological schools.\n",
      "\u001b[0m> Running step 30c6d87a-5ec4-4f25-8ead-750dbb48ed46. Step input: None\n",
      "\u001b[1;3;38;5;200mThought: Now that I have information about the education system in Chicago, I need to use the seattle_wiki tool to gather similar information about Seattle.\n",
      "Action: seattle_wiki\n",
      "Action Input: {'input': 'education in Seattle'}\n",
      "\u001b[0m\u001b[1;3;34mObservation: Seattle has a highly educated population, with 53.8% of those over 25 holding a bachelor's degree or higher, and 91.9% having a high school diploma or equivalent. The city has the highest percentage of college and university graduates of any major U.S. city and was listed as the most literate of the country's 69 largest cities in multiple years. Seattle Public Schools is the main school district, and there are also a number of private schools in the city. \n",
      "\n",
      "Seattle is home to the University of Washington, which was ranked eleventh in the world by U.S. News & World Report in 2017. The university receives more federal research and development funding than any public institution and has produced more Peace Corps volunteers than any other U.S. university over the last 10 years. \n",
      "\n",
      "Other educational institutions in Seattle include Seattle University, Seattle Pacific University, the Seattle Colleges District, City University, and Antioch University. In 2001, Time magazine selected Seattle Central Community College as community college of the year.\n",
      "\u001b[0m> Running step d1415fc4-ddee-423f-bd61-ca0f23c34c51. Step input: None\n",
      "\u001b[1;3;38;5;200mThought: I can answer without using any more tools. I'll use the user's language to answer.\n",
      "Answer: Both Chicago and Seattle have extensive education systems with multiple high-ranking universities and a high percentage of educated residents. However, Seattle has a higher percentage of residents with a bachelor's degree or higher (53.8%) compared to Chicago. Seattle has also been listed as the most literate of the country's 69 largest cities in multiple years. Therefore, in terms of higher education and literacy, Seattle seems to have an edge over Chicago.\n",
      "\u001b[0mBoth Chicago and Seattle have extensive education systems with multiple high-ranking universities and a high percentage of educated residents. However, Seattle has a higher percentage of residents with a bachelor's degree or higher (53.8%) compared to Chicago. Seattle has also been listed as the most literate of the country's 69 largest cities in multiple years. Therefore, in terms of higher education and literacy, Seattle seems to have an edge over Chicago.\n"
     ]
    }
   ],
   "source": [
    "# response = agent.chat(\"Who had more profit in 2021, Lyft or Uber?\")\n",
    "response = agent.chat(\"which city has higher education in general?\")\n",
    "print(str(response))"
   ]
  },
  {
   "cell_type": "code",
   "execution_count": null,
   "metadata": {},
   "outputs": [],
   "source": []
  }
 ],
 "metadata": {
  "kernelspec": {
   "display_name": "aacb",
   "language": "python",
   "name": "python3"
  },
  "language_info": {
   "codemirror_mode": {
    "name": "ipython",
    "version": 3
   },
   "file_extension": ".py",
   "mimetype": "text/x-python",
   "name": "python",
   "nbconvert_exporter": "python",
   "pygments_lexer": "ipython3",
   "version": "3.12.0"
  }
 },
 "nbformat": 4,
 "nbformat_minor": 2
}
